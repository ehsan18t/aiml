{
  "nbformat": 4,
  "nbformat_minor": 0,
  "metadata": {
    "colab": {
      "provenance": [],
      "collapsed_sections": [],
      "authorship_tag": "ABX9TyOrEJsW/n22Wh8VXuwN8TsV",
      "include_colab_link": true
    },
    "kernelspec": {
      "name": "python3",
      "display_name": "Python 3"
    },
    "language_info": {
      "name": "python"
    }
  },
  "cells": [
    {
      "cell_type": "markdown",
      "metadata": {
        "id": "view-in-github",
        "colab_type": "text"
      },
      "source": [
        "<a href=\"https://colab.research.google.com/github/Ahsan40/aiml/blob/main/Class_3.ipynb\" target=\"_parent\"><img src=\"https://colab.research.google.com/assets/colab-badge.svg\" alt=\"Open In Colab\"/></a>"
      ]
    },
    {
      "cell_type": "code",
      "execution_count": 9,
      "metadata": {
        "colab": {
          "base_uri": "https://localhost:8080/"
        },
        "id": "aibh2aMWTcRG",
        "outputId": "00edb1c4-4f79-404d-a06b-918337015011"
      },
      "outputs": [
        {
          "output_type": "stream",
          "name": "stdout",
          "text": [
            "creating an object of the class\n",
            "20\n",
            "this is a object\n",
            "10\n"
          ]
        }
      ],
      "source": [
        "# Class\n",
        "class Example:\n",
        "    num = 0 # instance variable\n",
        "    static_var = 10 # define static variable\n",
        "    \n",
        "    # initializer\n",
        "    def __init__(self, num2): # self is must for initializer\n",
        "        self.num2 = num2   # self is being used as this 'keyword' in java\n",
        "        num3 = 10   # this is a local variable closed to only __init__ method\n",
        "        print('creating an object of the class')\n",
        "        Example.static_var # can also be define here\n",
        "    \n",
        "    def print_num(self):\n",
        "        print(self.num2)\n",
        "    \n",
        "    # calling function inside\n",
        "    def func(self):\n",
        "        self.print_num()\n",
        "\n",
        "    # to string\n",
        "    def __str__(self):\n",
        "        return 'this is a object'\n",
        "    \n",
        "    # static method\n",
        "    @staticmethod\n",
        "    def print_static(num):\n",
        "        print(num)\n",
        "\n",
        "# create object\n",
        "obj = Example(20)\n",
        "obj.func\n",
        "obj.print_num()\n",
        "print(obj)\n",
        "obj.print_static(Example.static_var)"
      ]
    },
    {
      "cell_type": "code",
      "source": [
        "import math\n",
        "\n",
        "# Practice\n",
        "class Point:\n",
        "    def __init__(self, x, y):\n",
        "        self.x = x\n",
        "        self.y = y\n",
        "    \n",
        "    def dist(self, d2):\n",
        "        return abs(self.x - d2.x) + abs(self.y - d2.y)\n",
        "\n",
        "    # overloading\n",
        "    def dist2(self, x, y):\n",
        "        d = Point(x, y)\n",
        "        return self.dist(d)\n",
        "    \n",
        "    # move up\n",
        "    def up(self):\n",
        "        self.y += 1\n",
        "\n",
        "    # move down\n",
        "    def down(self):\n",
        "        self.y -= 1\n",
        "\n",
        "    # move left\n",
        "    def left(self):\n",
        "        self.x -= 1\n",
        "\n",
        "    # move right\n",
        "    def right(self):\n",
        "        self.x += 1\n",
        "    \n",
        "    # euclidian\n",
        "    @staticmethod\n",
        "    def euc(p1, p2):\n",
        "        return math.sqrt((p1.x - p2.x)**2 + (p1.y - p2.y)**2)\n",
        "\n",
        "p1 = Point(3, 5)\n",
        "p2 = Point(-4, 1)\n",
        "\n",
        "print(p1.dist(p2))\n",
        "\n",
        "p2.up()\n",
        "\n",
        "print(p1.dist(p2))\n"
      ],
      "metadata": {
        "colab": {
          "base_uri": "https://localhost:8080/"
        },
        "id": "PsmsXeqdWUKv",
        "outputId": "9a725a17-e349-4300-b23a-804b397e0098"
      },
      "execution_count": 11,
      "outputs": [
        {
          "output_type": "stream",
          "name": "stdout",
          "text": [
            "11\n",
            "10\n"
          ]
        }
      ]
    },
    {
      "cell_type": "code",
      "source": [
        "# sorting\n",
        "class Employee:\n",
        "    def __init__(self, name, height, age):\n",
        "        self.name = name\n",
        "        self.height = height\n",
        "        self.age = age\n",
        "    \n",
        "    def __str__(self):\n",
        "        return f'{self.name} {self.height} {self.age}'  # returning formatted string\n",
        "        # return self.name + \" \" + str(self.height) + \" \" + str(self.age)\n",
        "    \n",
        "    def __lt__(self, other):\n",
        "        if self.height > other.height:\n",
        "            return True\n",
        "        elif self.height == other.height:\n",
        "            return self.age > other.age\n",
        "        return False\n",
        "            \n",
        "\n",
        "    def __eq__(self, o):\n",
        "        return self.name == o.name and self.height == o.height and self.age == o.age\n",
        "\n",
        "\n",
        "n = int(input('Please enter Employee Number: '))\n",
        "\n",
        "emps = []\n",
        "\n",
        "for i in range(n):\n",
        "    name = input('Employee Name: ')\n",
        "    height = int(input('Employee Height: '))\n",
        "    age = int(input('Employee Age: '))\n",
        "    emps.append(Employee(name, height, age))\n",
        "\n",
        "emps.sort()\n",
        "\n",
        "for item in emps:\n",
        "    print(item)"
      ],
      "metadata": {
        "colab": {
          "base_uri": "https://localhost:8080/"
        },
        "id": "RrKjefv8bJqg",
        "outputId": "40f534c7-092f-4b84-ebfe-a546cf3983b6"
      },
      "execution_count": 12,
      "outputs": [
        {
          "output_type": "stream",
          "name": "stdout",
          "text": [
            "Please enter Employee Number: 3\n",
            "Employee Name: A\n",
            "Employee Height: 120\n",
            "Employee Age: 10\n",
            "Employee Name: B\n",
            "Employee Height: 110\n",
            "Employee Age: 8\n",
            "Employee Name: C\n",
            "Employee Height: 10\n",
            "Employee Age: 122\n",
            "A 120 10\n",
            "B 110 8\n",
            "C 10 122\n"
          ]
        }
      ]
    },
    {
      "cell_type": "code",
      "source": [
        "import math\n",
        "from queue import PriorityQueue\n",
        "\n",
        "# A Star Search\n",
        "# actual cost so far = g\n",
        "# heuristic cost = h\n",
        "# f = g + h\n",
        "\n",
        "class Node:\n",
        "    def __init__(self, name, cost, parent, x, y):\n",
        "        self.name = name\n",
        "        self.cost = cost\n",
        "        self.parent = parent\n",
        "        self.x = x\n",
        "        self.y = y\n",
        "        self.h = 0\n",
        "        self.g = 0\n",
        "        self.f = 0\n",
        "\n",
        "    def update_f(self, node):\n",
        "        self.g = self.cost + node.g\n",
        "        self.h = self.euclidean(node)\n",
        "        self.f = self.g + self.h\n",
        "\n",
        "    def update_info(self, parent, x, y):\n",
        "        self.parent = parent\n",
        "        self.x = x\n",
        "        self.y = y\n",
        "\n",
        "    def euclidean(self, d2):\n",
        "        return math.sqrt((self.x - d2.x)**2 + (self.y - d2.y)**2)\n",
        "\n",
        "    def make_copy(self):\n",
        "        return Node(self.name, self.cost, self.parent, self.x, self.y)\n",
        "\n",
        "    def __lt__(self, o):\n",
        "        return self.h + self.g < o.h + o.g\n",
        "    \n",
        "    def __eq__(self, o):\n",
        "        return self.name == o.name and self.h == o.h and self.g == o.g and self.x == o.x and self.y == o.y and self.parent == o.parent\n",
        "\n",
        "    def __str__(self):\n",
        "        return self.name\n",
        "\n",
        "\n",
        "class Graph:\n",
        "    def __init__(self):\n",
        "        self.adj = {}\n",
        "        self.path = []\n",
        "    \n",
        "    def add_egde(self, u, v):\n",
        "        self.adj[u].append(v)\n",
        "\n",
        "    def a_star_search(self):\n",
        "        # some codes\n",
        "        # init min-q\n",
        "        q = PriorityQueue()\n",
        "        print('test')\n",
        "    \n",
        "    def print_path(self):\n",
        "        while len(self.path) > 0:\n",
        "            node = self.path.pop()\n",
        "            print(node, end='')\n",
        "            if node is not self.path[-1]:\n",
        "                print(' -- > ', end='')\n",
        "\n",
        "# main function\n",
        "def __main__():\n",
        "    g = Graph()\n",
        "\n",
        "    # add edges/input\n",
        "    f = open('input.txt')\n",
        "\n",
        "    # print Output\n",
        "    g.print_path()\n",
        "\n",
        "\n",
        "# main call\n",
        "__main__()"
      ],
      "metadata": {
        "colab": {
          "base_uri": "https://localhost:8080/",
          "height": 330
        },
        "id": "GB0rtMpgfkL4",
        "outputId": "4666cbef-fc30-49e1-cb46-1a664ff29026"
      },
      "execution_count": 15,
      "outputs": [
        {
          "output_type": "error",
          "ename": "AttributeError",
          "evalue": "ignored",
          "traceback": [
            "\u001b[0;31m---------------------------------------------------------------------------\u001b[0m",
            "\u001b[0;31mAttributeError\u001b[0m                            Traceback (most recent call last)",
            "\u001b[0;32m<ipython-input-15-a3f37c448037>\u001b[0m in \u001b[0;36m<module>\u001b[0;34m\u001b[0m\n\u001b[1;32m     73\u001b[0m \u001b[0;34m\u001b[0m\u001b[0m\n\u001b[1;32m     74\u001b[0m \u001b[0;31m# print Output\u001b[0m\u001b[0;34m\u001b[0m\u001b[0;34m\u001b[0m\u001b[0;34m\u001b[0m\u001b[0m\n\u001b[0;32m---> 75\u001b[0;31m \u001b[0mg\u001b[0m\u001b[0;34m.\u001b[0m\u001b[0mprint_path\u001b[0m\u001b[0;34m(\u001b[0m\u001b[0;34m)\u001b[0m\u001b[0;34m\u001b[0m\u001b[0;34m\u001b[0m\u001b[0m\n\u001b[0m",
            "\u001b[0;32m<ipython-input-15-a3f37c448037>\u001b[0m in \u001b[0;36mprint_path\u001b[0;34m(self)\u001b[0m\n\u001b[1;32m     60\u001b[0m \u001b[0;34m\u001b[0m\u001b[0m\n\u001b[1;32m     61\u001b[0m     \u001b[0;32mdef\u001b[0m \u001b[0mprint_path\u001b[0m\u001b[0;34m(\u001b[0m\u001b[0mself\u001b[0m\u001b[0;34m)\u001b[0m\u001b[0;34m:\u001b[0m\u001b[0;34m\u001b[0m\u001b[0;34m\u001b[0m\u001b[0m\n\u001b[0;32m---> 62\u001b[0;31m         \u001b[0;32mwhile\u001b[0m \u001b[0;32mnot\u001b[0m \u001b[0mself\u001b[0m\u001b[0;34m.\u001b[0m\u001b[0mpath\u001b[0m\u001b[0;34m.\u001b[0m\u001b[0mempty\u001b[0m\u001b[0;34m(\u001b[0m\u001b[0;34m)\u001b[0m\u001b[0;34m:\u001b[0m\u001b[0;34m\u001b[0m\u001b[0;34m\u001b[0m\u001b[0m\n\u001b[0m\u001b[1;32m     63\u001b[0m             \u001b[0mnode\u001b[0m \u001b[0;34m=\u001b[0m \u001b[0mself\u001b[0m\u001b[0;34m.\u001b[0m\u001b[0mpath\u001b[0m\u001b[0;34m.\u001b[0m\u001b[0mpop\u001b[0m\u001b[0;34m(\u001b[0m\u001b[0;34m)\u001b[0m\u001b[0;34m\u001b[0m\u001b[0;34m\u001b[0m\u001b[0m\n\u001b[1;32m     64\u001b[0m             \u001b[0mprint\u001b[0m\u001b[0;34m(\u001b[0m\u001b[0mnode\u001b[0m\u001b[0;34m,\u001b[0m \u001b[0mend\u001b[0m\u001b[0;34m=\u001b[0m\u001b[0;34m''\u001b[0m\u001b[0;34m)\u001b[0m\u001b[0;34m\u001b[0m\u001b[0;34m\u001b[0m\u001b[0m\n",
            "\u001b[0;31mAttributeError\u001b[0m: 'list' object has no attribute 'empty'"
          ]
        }
      ]
    },
    {
      "cell_type": "code",
      "source": [],
      "metadata": {
        "id": "xEqVu3yXmS2x"
      },
      "execution_count": null,
      "outputs": []
    }
  ]
}