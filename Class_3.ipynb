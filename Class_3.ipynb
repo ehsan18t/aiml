{
  "nbformat": 4,
  "nbformat_minor": 0,
  "metadata": {
    "colab": {
      "provenance": [],
      "collapsed_sections": [],
      "authorship_tag": "ABX9TyOI+8r1TO2TI4emK67pg988",
      "include_colab_link": true
    },
    "kernelspec": {
      "name": "python3",
      "display_name": "Python 3"
    },
    "language_info": {
      "name": "python"
    }
  },
  "cells": [
    {
      "cell_type": "markdown",
      "metadata": {
        "id": "view-in-github",
        "colab_type": "text"
      },
      "source": [
        "<a href=\"https://colab.research.google.com/github/Ahsan40/aiml/blob/main/Class_3.ipynb\" target=\"_parent\"><img src=\"https://colab.research.google.com/assets/colab-badge.svg\" alt=\"Open In Colab\"/></a>"
      ]
    },
    {
      "cell_type": "code",
      "execution_count": 9,
      "metadata": {
        "colab": {
          "base_uri": "https://localhost:8080/"
        },
        "id": "aibh2aMWTcRG",
        "outputId": "00edb1c4-4f79-404d-a06b-918337015011"
      },
      "outputs": [
        {
          "output_type": "stream",
          "name": "stdout",
          "text": [
            "creating an object of the class\n",
            "20\n",
            "this is a object\n",
            "10\n"
          ]
        }
      ],
      "source": [
        "# Class\n",
        "class Example:\n",
        "    num = 0 # instance variable\n",
        "    static_var = 10 # define static variable\n",
        "    \n",
        "    # initializer\n",
        "    def __init__(self, num2): # self is must for initializer\n",
        "        self.num2 = num2   # self is being used as this 'keyword' in java\n",
        "        num3 = 10   # this is a local variable closed to only __init__ method\n",
        "        print('creating an object of the class')\n",
        "        Example.static_var # can also be define here\n",
        "    \n",
        "    def print_num(self):\n",
        "        print(self.num2)\n",
        "    \n",
        "    # calling function inside\n",
        "    def func(self):\n",
        "        self.print_num()\n",
        "\n",
        "    # to string\n",
        "    def __str__(self):\n",
        "        return 'this is a object'\n",
        "    \n",
        "    # static method\n",
        "    @staticmethod\n",
        "    def print_static(num):\n",
        "        print(num)\n",
        "\n",
        "# create object\n",
        "obj = Example(20)\n",
        "obj.func\n",
        "obj.print_num()\n",
        "print(obj)\n",
        "obj.print_static(Example.static_var)"
      ]
    },
    {
      "cell_type": "code",
      "source": [
        "import math\n",
        "\n",
        "# Practice\n",
        "class Point:\n",
        "    def __init__(self, x, y):\n",
        "        self.x = x\n",
        "        self.y = y\n",
        "    \n",
        "    def dist(self, d2):\n",
        "        return abs(self.x - d2.x) + abs(self.y - d2.y)\n",
        "\n",
        "    # overloading\n",
        "    def dist2(self, x, y):\n",
        "        d = Point(x, y)\n",
        "        return self.dist(d)\n",
        "    \n",
        "    # move up\n",
        "    def up(self):\n",
        "        self.y += 1\n",
        "\n",
        "    # move down\n",
        "    def down(self):\n",
        "        self.y -= 1\n",
        "\n",
        "    # move left\n",
        "    def left(self):\n",
        "        self.x -= 1\n",
        "\n",
        "    # move right\n",
        "    def right(self):\n",
        "        self.x += 1\n",
        "    \n",
        "    # euclidian\n",
        "    @staticmethod\n",
        "    def euc(p1, p2):\n",
        "        return math.sqrt((p1.x - p2.x)**2 + (p1.y - p2.y)**2)\n",
        "\n",
        "p1 = Point(3, 5)\n",
        "p2 = Point(-4, 1)\n",
        "\n",
        "print(p1.dist(p2))\n",
        "\n",
        "p2.up()\n",
        "\n",
        "print(p1.dist(p2))\n"
      ],
      "metadata": {
        "colab": {
          "base_uri": "https://localhost:8080/"
        },
        "id": "PsmsXeqdWUKv",
        "outputId": "9a725a17-e349-4300-b23a-804b397e0098"
      },
      "execution_count": 11,
      "outputs": [
        {
          "output_type": "stream",
          "name": "stdout",
          "text": [
            "11\n",
            "10\n"
          ]
        }
      ]
    },
    {
      "cell_type": "code",
      "source": [
        "# sorting\n",
        "class Employee:\n",
        "    def __init__(self, name, height, age):\n",
        "        self.name = name\n",
        "        self.height = height\n",
        "        self.age = age\n",
        "    \n",
        "    def __str__(self):\n",
        "        return self.name + \" \" + str(self.height) + \" \" + str(self.age)\n",
        "    \n",
        "    def __lt__(self, other):\n",
        "        if self.height > other.height:\n",
        "            return True\n",
        "        elif self.height == other.height:\n",
        "            return self.age > other.age\n",
        "        return False\n",
        "            \n",
        "\n",
        "    def __eq__(self, o):\n",
        "        return self.name == o.name and self.height == o.height and self.age == o.age\n",
        "\n",
        "\n",
        "n = int(input('Please enter Employee Number: '))\n",
        "\n",
        "emps = []\n",
        "\n",
        "for i in range(n):\n",
        "    name = input('Employee Name: ')\n",
        "    height = int(input('Employee Height: '))\n",
        "    age = int(input('Employee Age: '))\n",
        "    emps.append(Employee(name, height, age))\n",
        "\n",
        "emps.sort()\n",
        "\n",
        "for item in emps:\n",
        "    print(item)"
      ],
      "metadata": {
        "colab": {
          "base_uri": "https://localhost:8080/"
        },
        "id": "RrKjefv8bJqg",
        "outputId": "40f534c7-092f-4b84-ebfe-a546cf3983b6"
      },
      "execution_count": 12,
      "outputs": [
        {
          "output_type": "stream",
          "name": "stdout",
          "text": [
            "Please enter Employee Number: 3\n",
            "Employee Name: A\n",
            "Employee Height: 120\n",
            "Employee Age: 10\n",
            "Employee Name: B\n",
            "Employee Height: 110\n",
            "Employee Age: 8\n",
            "Employee Name: C\n",
            "Employee Height: 10\n",
            "Employee Age: 122\n",
            "A 120 10\n",
            "B 110 8\n",
            "C 10 122\n"
          ]
        }
      ]
    },
    {
      "cell_type": "code",
      "source": [],
      "metadata": {
        "id": "GB0rtMpgfkL4"
      },
      "execution_count": null,
      "outputs": []
    }
  ]
}