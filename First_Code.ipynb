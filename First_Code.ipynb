{
  "nbformat": 4,
  "nbformat_minor": 0,
  "metadata": {
    "colab": {
      "provenance": [],
      "collapsed_sections": [],
      "authorship_tag": "ABX9TyMG5whbQ8sXD9cMOw7s/Heq",
      "include_colab_link": true
    },
    "kernelspec": {
      "name": "python3",
      "display_name": "Python 3"
    },
    "language_info": {
      "name": "python"
    }
  },
  "cells": [
    {
      "cell_type": "markdown",
      "metadata": {
        "id": "view-in-github",
        "colab_type": "text"
      },
      "source": [
        "<a href=\"https://colab.research.google.com/github/Ahsan40/aiml/blob/main/First_Code.ipynb\" target=\"_parent\"><img src=\"https://colab.research.google.com/assets/colab-badge.svg\" alt=\"Open In Colab\"/></a>"
      ]
    },
    {
      "cell_type": "code",
      "execution_count": 1,
      "metadata": {
        "colab": {
          "base_uri": "https://localhost:8080/"
        },
        "id": "O9xs-n2pWodI",
        "outputId": "8a502e86-b59f-4808-f3b5-a7599c25c506"
      },
      "outputs": [
        {
          "output_type": "stream",
          "name": "stdout",
          "text": [
            "10\n"
          ]
        }
      ],
      "source": [
        "a = 10\n",
        "print(a)"
      ]
    },
    {
      "cell_type": "code",
      "source": [
        "str = 'this is a string'\n",
        "print(str)"
      ],
      "metadata": {
        "colab": {
          "base_uri": "https://localhost:8080/"
        },
        "id": "Ag0PJJIzX-T-",
        "outputId": "98c2e7dc-3955-42ac-d02d-511984781e1b"
      },
      "execution_count": 2,
      "outputs": [
        {
          "output_type": "stream",
          "name": "stdout",
          "text": [
            "this is a string\n"
          ]
        }
      ]
    },
    {
      "cell_type": "code",
      "source": [
        "# Formatted Print/String\n",
        "print(f'{a} is here as formatted')"
      ],
      "metadata": {
        "colab": {
          "base_uri": "https://localhost:8080/"
        },
        "id": "MMXzjgNCYDHV",
        "outputId": "2d808011-48e0-4a42-868a-e6886fc6fc36"
      },
      "execution_count": 3,
      "outputs": [
        {
          "output_type": "stream",
          "name": "stdout",
          "text": [
            "10 is here as formatted\n"
          ]
        }
      ]
    },
    {
      "cell_type": "code",
      "source": [
        "# Concat 2 print\n",
        "print('This', end=\"\")\n",
        "print('That')\n",
        "# Here end will set wqhat we want instead of default line break"
      ],
      "metadata": {
        "colab": {
          "base_uri": "https://localhost:8080/"
        },
        "id": "P7RV2BSBZ9DH",
        "outputId": "dbe40eeb-baaf-492c-a2a3-4a69d2a97f5f"
      },
      "execution_count": 5,
      "outputs": [
        {
          "output_type": "stream",
          "name": "stdout",
          "text": [
            "ThisThat\n"
          ]
        }
      ]
    },
    {
      "cell_type": "code",
      "source": [
        "# Power\n",
        "b = 2 ** 3\n",
        "print(b)"
      ],
      "metadata": {
        "colab": {
          "base_uri": "https://localhost:8080/"
        },
        "id": "2twWbJGuaQM_",
        "outputId": "1d1055d9-6826-49a3-cbc6-ce94c86c1eab"
      },
      "execution_count": 6,
      "outputs": [
        {
          "output_type": "stream",
          "name": "stdout",
          "text": [
            "8\n"
          ]
        }
      ]
    },
    {
      "cell_type": "code",
      "source": [
        "# String concat\n",
        "str = 'hello '\n",
        "str += 'hi'\n",
        "print(str)"
      ],
      "metadata": {
        "colab": {
          "base_uri": "https://localhost:8080/"
        },
        "id": "ACMHBDcVac5G",
        "outputId": "bb93e58b-3501-4cda-bb7a-2340a18efb9e"
      },
      "execution_count": 8,
      "outputs": [
        {
          "output_type": "stream",
          "name": "stdout",
          "text": [
            "hello hi\n"
          ]
        }
      ]
    },
    {
      "cell_type": "code",
      "source": [
        "# Type cast\n",
        "c = 10\n",
        "print(c, type(c))\n",
        "d = float(c)\n",
        "print(d, type(d))"
      ],
      "metadata": {
        "colab": {
          "base_uri": "https://localhost:8080/"
        },
        "id": "DZpsrVbgapSG",
        "outputId": "842cb959-e220-4b71-97f3-18a6dd4c0ab1"
      },
      "execution_count": 10,
      "outputs": [
        {
          "output_type": "stream",
          "name": "stdout",
          "text": [
            "10 <class 'int'>\n",
            "10.0 <class 'float'>\n"
          ]
        }
      ]
    },
    {
      "cell_type": "code",
      "source": [
        "# input\n",
        "e = int(input(\"Enter an Integer: \"))\n",
        "print(e)"
      ],
      "metadata": {
        "colab": {
          "base_uri": "https://localhost:8080/"
        },
        "id": "7m1X5gzXbWzG",
        "outputId": "1f0b06d4-9f16-44be-b0ee-50f8add6073a"
      },
      "execution_count": 12,
      "outputs": [
        {
          "output_type": "stream",
          "name": "stdout",
          "text": [
            "Enter an Integer: 50\n",
            "50\n"
          ]
        }
      ]
    },
    {
      "cell_type": "code",
      "source": [
        "# Condition\n",
        "a = int(input(\"Enter an Integer A: \"))\n",
        "b = int(input(\"Enter an Integer B: \"))\n",
        "if a > b:\n",
        "    print('a is greater')\n",
        "elif a == b:\n",
        "    print('a and b are equal')\n",
        "else:\n",
        "    print('b is greater')"
      ],
      "metadata": {
        "colab": {
          "base_uri": "https://localhost:8080/"
        },
        "id": "DqRU5wFIbkNm",
        "outputId": "46b29493-ba64-4d6b-9345-111164f637cf"
      },
      "execution_count": 17,
      "outputs": [
        {
          "output_type": "stream",
          "name": "stdout",
          "text": [
            "Enter an Integer A: 50\n",
            "Enter an Integer B: 50\n",
            "a and b are equal\n"
          ]
        }
      ]
    },
    {
      "cell_type": "code",
      "source": [
        "# Condition Practice\n",
        "gen = input(\"Enter Your Gender: \")\n",
        "h = int(input(\"Enter Your Height: \"))\n",
        "comp = 166\n",
        "\n",
        "if gen == 'F':\n",
        "    comp = 155\n",
        "\n",
        "if h == comp:\n",
        "    print(\"Your height is avarage.\")\n",
        "elif h > comp:\n",
        "    print(\"Your height is tall.\")\n",
        "else:\n",
        "    print(\"Your height is short.\")"
      ],
      "metadata": {
        "colab": {
          "base_uri": "https://localhost:8080/"
        },
        "id": "-HFVj4GAcOae",
        "outputId": "a310f9ad-fe5a-4509-a174-db3c12f48322"
      },
      "execution_count": 18,
      "outputs": [
        {
          "output_type": "stream",
          "name": "stdout",
          "text": [
            "Enter Your Gender: M\n",
            "Enter Your Height: 168\n",
            "Your height is tall.\n"
          ]
        }
      ]
    },
    {
      "cell_type": "code",
      "source": [],
      "metadata": {
        "id": "kIJDr0glek22"
      },
      "execution_count": null,
      "outputs": []
    }
  ]
}