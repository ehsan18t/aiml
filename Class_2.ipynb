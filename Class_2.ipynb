{
  "nbformat": 4,
  "nbformat_minor": 0,
  "metadata": {
    "colab": {
      "provenance": [],
      "collapsed_sections": [],
      "authorship_tag": "ABX9TyMMqXf62n6iGFM9CIUpd2eo",
      "include_colab_link": true
    },
    "kernelspec": {
      "name": "python3",
      "display_name": "Python 3"
    },
    "language_info": {
      "name": "python"
    }
  },
  "cells": [
    {
      "cell_type": "markdown",
      "metadata": {
        "id": "view-in-github",
        "colab_type": "text"
      },
      "source": [
        "<a href=\"https://colab.research.google.com/github/Ahsan40/aiml/blob/main/Class_2.ipynb\" target=\"_parent\"><img src=\"https://colab.research.google.com/assets/colab-badge.svg\" alt=\"Open In Colab\"/></a>"
      ]
    },
    {
      "cell_type": "code",
      "execution_count": 1,
      "metadata": {
        "colab": {
          "base_uri": "https://localhost:8080/"
        },
        "id": "QwqJdRkbT92W",
        "outputId": "3d3cee90-bb63-4919-b4d2-f1ed5b1319a1"
      },
      "outputs": [
        {
          "output_type": "stream",
          "name": "stdout",
          "text": [
            "Ehsan\n",
            "blabla@gmail.com\n",
            "23\n"
          ]
        }
      ],
      "source": [
        "# Dictonary`\n",
        "\n",
        "# declare\n",
        "d = {}\n",
        "\n",
        "# or\n",
        "d = dict()\n",
        "\n",
        "# Init with data\n",
        "dic = {\n",
        "    'name' : 'Ehsan',\n",
        "    'email': 'blabla@gmail.com',\n",
        "    'age': 23\n",
        "}\n",
        "\n",
        "print(dic['name'])\n",
        "print(dic['email'])\n",
        "print(dic['age'])"
      ]
    },
    {
      "cell_type": "code",
      "source": [
        "# Update value\n",
        "dic['name'] = 'Ehsan Khan'\n",
        "print(dic['name'])"
      ],
      "metadata": {
        "colab": {
          "base_uri": "https://localhost:8080/"
        },
        "id": "hdYACLmwUhl6",
        "outputId": "802f480b-20ab-4b37-b94d-56c492778b4d"
      },
      "execution_count": 2,
      "outputs": [
        {
          "output_type": "stream",
          "name": "stdout",
          "text": [
            "Ehsan Khan\n"
          ]
        }
      ]
    },
    {
      "cell_type": "code",
      "source": [
        "# add new k/v\n",
        "dic['gender'] = 'male'\n",
        "print(dic['gender'])"
      ],
      "metadata": {
        "colab": {
          "base_uri": "https://localhost:8080/"
        },
        "id": "jxH4vdu8U5Ti",
        "outputId": "17efb313-70e2-4abb-fdbe-e6a122827c0a"
      },
      "execution_count": 3,
      "outputs": [
        {
          "output_type": "stream",
          "name": "stdout",
          "text": [
            "male\n"
          ]
        }
      ]
    },
    {
      "cell_type": "code",
      "source": [
        "# can be combined all date type at one dictonary\n",
        "dic[1] = 23\n",
        "print(dic[1])"
      ],
      "metadata": {
        "colab": {
          "base_uri": "https://localhost:8080/"
        },
        "id": "GdMM4YNyVEBi",
        "outputId": "91226a93-572a-4991-befa-44117898ebaa"
      },
      "execution_count": 5,
      "outputs": [
        {
          "output_type": "stream",
          "name": "stdout",
          "text": [
            "23\n"
          ]
        }
      ]
    },
    {
      "cell_type": "code",
      "source": [
        "# LIST OF DICTONARY\n",
        "\n",
        "# list\n",
        "students = []\n",
        "\n",
        "# dictonary\n",
        "s1 = {\n",
        "    \"id\": \"001\", \"name\": \"A\"\n",
        "}\n",
        "\n",
        "# dictonary\n",
        "s2 = {\n",
        "    \"id\": \"002\", \"name\": \"B\"\n",
        "}\n",
        "\n",
        "students.append(s1)\n",
        "students.append(s2)\n",
        "\n",
        "print(students[1])"
      ],
      "metadata": {
        "colab": {
          "base_uri": "https://localhost:8080/"
        },
        "id": "3OxnvcpHWvZT",
        "outputId": "c4ef6d8c-a46e-4061-f477-264fee16a242"
      },
      "execution_count": 6,
      "outputs": [
        {
          "output_type": "stream",
          "name": "stdout",
          "text": [
            "{'id': '002', 'name': 'B'}\n"
          ]
        }
      ]
    },
    {
      "cell_type": "markdown",
      "source": [
        "make student information and store as such its easy to search by id."
      ],
      "metadata": {
        "id": "R2TGK6KSYZVN"
      }
    },
    {
      "cell_type": "code",
      "source": [
        "# dictonary of list\n",
        "info = {\n",
        "    '011201122': ['A', 80, 3.5],\n",
        "    '011201123': ['B', 100, 4] \n",
        "}\n",
        "\n",
        "# for variable lenght info dictonary of dictonary is more useful\n",
        "\n",
        "id = '011201122'\n",
        "print(info[id])"
      ],
      "metadata": {
        "colab": {
          "base_uri": "https://localhost:8080/"
        },
        "id": "diw3MrpyY7GZ",
        "outputId": "5ead340f-6ed9-4f26-f100-da012255aaf5"
      },
      "execution_count": 8,
      "outputs": [
        {
          "output_type": "stream",
          "name": "stdout",
          "text": [
            "['A', 80, 3.5]\n"
          ]
        }
      ]
    },
    {
      "cell_type": "code",
      "source": [
        "# Input from file\n",
        "f = open('input.txt')\n",
        "\n",
        "# dictonary of list\n",
        "dict = {}\n",
        "\n",
        "for line in f.readlines():\n",
        "    # string formatting\n",
        "    line = line.strip()\n",
        "    d = line.split(',')\n",
        "    id = d[0]\n",
        "    name = d[1]\n",
        "    credit = int(d[2])\n",
        "    cgpa = float(d[3])\n",
        "    dict[id] = [name, credit, cgpa]\n",
        "\n",
        "# print dictonary\n",
        "for id in dict:\n",
        "    print(id, end=': ')\n",
        "    for item in id:\n",
        "        print(item, end=' ')\n",
        "    print()"
      ],
      "metadata": {
        "colab": {
          "base_uri": "https://localhost:8080/"
        },
        "id": "ESwIaMWLaimC",
        "outputId": "c168ddc1-910e-41fb-aeeb-5fa4fe7d6742"
      },
      "execution_count": 15,
      "outputs": [
        {
          "output_type": "stream",
          "name": "stdout",
          "text": [
            "011201122: 0 1 1 2 0 1 1 2 2 \n",
            "011201123: 0 1 1 2 0 1 1 2 3 \n",
            "011201124: 0 1 1 2 0 1 1 2 4 \n",
            "011201125: 0 1 1 2 0 1 1 2 5 \n"
          ]
        }
      ]
    },
    {
      "cell_type": "code",
      "source": [
        "# count elements\n",
        "d = {}\n",
        "\n",
        "f = open('in2.txt')\n",
        "\n",
        "for line in f.readlines():\n",
        "    line = line.strip()\n",
        "    if line in d:\n",
        "        d[line] = d[line] + 1\n",
        "    else:\n",
        "        d[line] = 1\n",
        "\n",
        "for line in d:\n",
        "    print(f'{line} orrcured {[line]}')"
      ],
      "metadata": {
        "colab": {
          "base_uri": "https://localhost:8080/"
        },
        "id": "os9Su8S7cFGb",
        "outputId": "285358ea-bad2-42df-e265-95dec3964431"
      },
      "execution_count": 37,
      "outputs": [
        {
          "output_type": "stream",
          "name": "stdout",
          "text": [
            "10 2\n",
            "20 1\n",
            "12 2\n",
            "23 3\n",
            "34 2\n",
            "45 1\n",
            "56 1\n"
          ]
        }
      ]
    },
    {
      "cell_type": "code",
      "source": [
        "# count character from string elements\n",
        "d = {}\n",
        "\n",
        "f = open('in3.txt')\n",
        "line = f.readline()\n",
        "line = line.strip()\n",
        "for ch in line:\n",
        "    if line in d:\n",
        "        d[ch] = d[line] + 1\n",
        "    else:\n",
        "        d[ch] = 1\n",
        "\n",
        "for line in d:\n",
        "    print(f'{line} orrcured {[line]}')"
      ],
      "metadata": {
        "colab": {
          "base_uri": "https://localhost:8080/"
        },
        "id": "rJw1tq4Uewd6",
        "outputId": "c50d683a-eaa4-4651-8ae5-34749abbd28a"
      },
      "execution_count": 39,
      "outputs": [
        {
          "output_type": "stream",
          "name": "stdout",
          "text": [
            "T orrcured ['T']\n",
            "e orrcured ['e']\n",
            "s orrcured ['s']\n",
            "t orrcured ['t']\n",
            "  orrcured [' ']\n"
          ]
        }
      ]
    },
    {
      "cell_type": "code",
      "source": [
        "# function\n",
        "def sum(a, b):\n",
        "    return a+b\n",
        "\n",
        "print(sum(10, 20))"
      ],
      "metadata": {
        "colab": {
          "base_uri": "https://localhost:8080/"
        },
        "id": "NGQreN9NiDhS",
        "outputId": "39c987ff-dd7e-4444-b989-5d4335bc8ed7"
      },
      "execution_count": 40,
      "outputs": [
        {
          "output_type": "stream",
          "name": "stdout",
          "text": [
            "30\n"
          ]
        }
      ]
    },
    {
      "cell_type": "code",
      "source": [
        "# return multiple value\n",
        "\n",
        "def sum(a, b):\n",
        "    return a+b , a * b\n",
        "\n",
        "s, m = sum(10, 20)\n",
        "print(s, m)"
      ],
      "metadata": {
        "colab": {
          "base_uri": "https://localhost:8080/"
        },
        "id": "5sL1wg90i_KL",
        "outputId": "1534a466-3f65-4518-cae7-c413d7b014bf"
      },
      "execution_count": 42,
      "outputs": [
        {
          "output_type": "stream",
          "name": "stdout",
          "text": [
            "30 200\n"
          ]
        }
      ]
    },
    {
      "cell_type": "code",
      "source": [
        "# Write a function that finds the max and min of a list of integers\n",
        "def maxMin(l):\n",
        "    max = min = l[0]\n",
        "    for i in l:\n",
        "        if i < min:\n",
        "            min = i\n",
        "        if i > max:\n",
        "            max = i\n",
        "    return max, min\n",
        "\n",
        "l = [10, 20, 1, 2, 450, 5]\n",
        "\n",
        "max, min = maxMin(l)\n",
        "print(f'max: {max} min: {min}')"
      ],
      "metadata": {
        "colab": {
          "base_uri": "https://localhost:8080/"
        },
        "id": "qU5ujnn-jL0z",
        "outputId": "6d2f1060-7df0-4027-c62a-7e22efdd63c5"
      },
      "execution_count": 49,
      "outputs": [
        {
          "output_type": "stream",
          "name": "stdout",
          "text": [
            "max: 450 min: 1\n"
          ]
        }
      ]
    },
    {
      "cell_type": "code",
      "source": [
        "# Given the x y coordinates of 2 2d points, write a function to calculate their euclidean distance\n",
        "import math\n",
        "\n",
        "def EuclDis(a, b, c, d):\n",
        "    return math.sqrt(((a-b)**2) + ((c-d)**2))\n",
        "# power somethin with 0.5 will return sqrt\n",
        "\n",
        "def ManhathanDis(a, b, c, d):\n",
        "    return (abs((a-b)) + abs((2-3)))\n",
        "\n",
        "print(f'Euclicean Distance: {EuclDis(1, 2, 3, 5)}')\n",
        "print(f'Euclicean Distance: {EuclDis(b=2, a=1, d=5, c=3)}')\n",
        "print(f'Manthan Distance: {ManhathanDis(1, 2, 5, 3)}')"
      ],
      "metadata": {
        "colab": {
          "base_uri": "https://localhost:8080/"
        },
        "id": "Srfxxo31kSZ0",
        "outputId": "5218ca43-416a-426b-d32c-e80df7361ee8"
      },
      "execution_count": 57,
      "outputs": [
        {
          "output_type": "stream",
          "name": "stdout",
          "text": [
            "Euclicean Distance: 2.23606797749979\n",
            "Euclicean Distance: 2.23606797749979\n",
            "Manthan Distance: 2\n"
          ]
        }
      ]
    },
    {
      "cell_type": "code",
      "source": [],
      "metadata": {
        "id": "tmET3KG6magU"
      },
      "execution_count": null,
      "outputs": []
    }
  ]
}